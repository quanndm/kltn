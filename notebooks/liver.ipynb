{
  "cells": [
    {
      "cell_type": "markdown",
      "metadata": {
        "id": "view-in-github",
        "colab_type": "text"
      },
      "source": [
        "<a href=\"https://colab.research.google.com/github/quanndm/kltn/blob/dev/notebooks/liver.ipynb\" target=\"_parent\"><img src=\"https://colab.research.google.com/assets/colab-badge.svg\" alt=\"Open In Colab\"/></a>"
      ]
    },
    {
      "cell_type": "markdown",
      "id": "0a8a3684",
      "metadata": {
        "id": "0a8a3684"
      },
      "source": [
        "## Init - import library - download data"
      ]
    },
    {
      "cell_type": "code",
      "execution_count": 1,
      "id": "6d609b31",
      "metadata": {
        "id": "6d609b31",
        "outputId": "947540a4-7adb-4b1b-ca29-f1bd01ad6395",
        "colab": {
          "base_uri": "https://localhost:8080/"
        }
      },
      "outputs": [
        {
          "output_type": "stream",
          "name": "stdout",
          "text": [
            "Cloning into 'kltn'...\n",
            "remote: Enumerating objects: 1303, done.\u001b[K\n",
            "remote: Counting objects: 100% (91/91), done.\u001b[K\n",
            "remote: Compressing objects: 100% (66/66), done.\u001b[K\n",
            "remote: Total 1303 (delta 57), reused 48 (delta 25), pack-reused 1212 (from 2)\u001b[K\n",
            "Receiving objects: 100% (1303/1303), 13.43 MiB | 13.37 MiB/s, done.\n",
            "Resolving deltas: 100% (845/845), done.\n"
          ]
        }
      ],
      "source": [
        "!rm -rf kltn\n",
        "!rm -rf sample_data\n",
        "!git clone -b dev https://github.com/quanndm/kltn.git"
      ]
    },
    {
      "cell_type": "code",
      "execution_count": 2,
      "id": "756b7c38",
      "metadata": {
        "id": "756b7c38"
      },
      "outputs": [],
      "source": [
        "from kltn.init.install_dependencies import install_packages, load_config\n",
        "install_packages(\"./kltn\")\n",
        "config = load_config(\"./kltn/parameters.yaml\")"
      ]
    },
    {
      "cell_type": "code",
      "execution_count": 3,
      "id": "2fed11ba",
      "metadata": {
        "id": "2fed11ba"
      },
      "outputs": [],
      "source": [
        "import torch\n",
        "import matplotlib.pyplot as plt\n",
        "import numpy as np\n",
        "from google.colab import drive\n",
        "\n",
        "from kltn import *\n",
        "from kltn.datasets.get_datasets import get_datasets_lits\n",
        "from kltn.utils.logger import init_logger\n",
        "from kltn.utils.train_val_epochs import  trainer_stage1\n",
        "from kltn.utils.metrics import  DiceMetric, TverskyLossWSigmoid, DiceLossWSigmoid\n",
        "from kltn.models.model_factory import ModelFactory\n",
        "from kltn.utils.visualize_results import visualize_results"
      ]
    },
    {
      "cell_type": "code",
      "execution_count": 4,
      "id": "efa7e2bd",
      "metadata": {
        "id": "efa7e2bd",
        "outputId": "197b6777-dd2f-42eb-aa15-ca68481ab4c1",
        "colab": {
          "base_uri": "https://localhost:8080/"
        }
      },
      "outputs": [
        {
          "output_type": "stream",
          "name": "stdout",
          "text": [
            "Drive not mounted, so nothing to flush and unmount.\n",
            "Mounted at /content/drive\n"
          ]
        }
      ],
      "source": [
        "drive.flush_and_unmount()\n",
        "drive.mount(\"/content/drive\")"
      ]
    },
    {
      "cell_type": "code",
      "execution_count": 5,
      "id": "2a416363",
      "metadata": {
        "id": "2a416363"
      },
      "outputs": [],
      "source": [
        "LOGGER = init_logger(config[\"log_path\"])\n",
        "device = torch.device(\"cuda\" if torch.cuda.is_available() else \"cpu\")"
      ]
    },
    {
      "cell_type": "code",
      "execution_count": 6,
      "id": "398dbce7",
      "metadata": {
        "id": "398dbce7",
        "outputId": "e432bb2d-5447-4bab-9038-d97b544f8b07",
        "colab": {
          "base_uri": "https://localhost:8080/"
        }
      },
      "outputs": [
        {
          "output_type": "stream",
          "name": "stdout",
          "text": [
            "0.00% complete (down: 0.0 kB/s up: 0.0 kB/s peers: 1) downloading LITS17 (https://academictorrents.com/announce.php)[127.0.0.1:6881] v1 skipping tracker announce (unreachable) \"\" (1)\n",
            "LITS17 (https://ipv6.academictorrents.com/announce.php)[127.0.0.1:6881] v1 skipping tracker announce (unreachable) \"\" (1)\n",
            "LITS17 (https://academictorrents.com/announce.php)[172.28.0.12:6881] v1 unspecified system error \"\" (1)\n",
            "LITS17 (https://ipv6.academictorrents.com/announce.php)[172.28.0.12:6881] v1 unspecified system error \"\" (1)\n",
            "LITS17 (udp://tracker.opentrackr.org:1337/announce)[127.0.0.1:6881] v1 skipping tracker announce (unreachable) \"\" (1)\n",
            "1.21% complete (down: 16409.2 kB/s up: 487.7 kB/s peers: 9) downloading LITS17 (https://academictorrents.com/announce.php)[127.0.0.1:6881] v1 skipping tracker announce (unreachable) \"\" (2)\n",
            "LITS17 (https://ipv6.academictorrents.com/announce.php)[127.0.0.1:6881] v1 skipping tracker announce (unreachable) \"\" (2)\n",
            "LITS17 (https://ipv6.academictorrents.com/announce.php)[172.28.0.12:6881] v1 unspecified system error \"\" (2)\n",
            "LITS17 (https://academictorrents.com/announce.php)[172.28.0.12:6881] v1 unspecified system error \"\" (2)\n",
            "12.29% complete (down: 33440.2 kB/s up: 994.2 kB/s peers: 9) downloading LITS17 (https://academictorrents.com/announce.php)[127.0.0.1:6881] v1 skipping tracker announce (unreachable) \"\" (3)\n",
            "LITS17 (https://ipv6.academictorrents.com/announce.php)[127.0.0.1:6881] v1 skipping tracker announce (unreachable) \"\" (3)\n",
            "LITS17 (udp://tracker.opentrackr.org:1337/announce)[127.0.0.1:6881] v1 skipping tracker announce (unreachable) \"\" (2)\n",
            "LITS17 (https://ipv6.academictorrents.com/announce.php)[172.28.0.12:6881] v1 unspecified system error \"\" (3)\n",
            "LITS17 (https://academictorrents.com/announce.php)[172.28.0.12:6881] v1 unspecified system error \"\" (3)\n",
            "36.87% complete (down: 58677.9 kB/s up: 1729.9 kB/s peers: 10) downloading could not map port using UPnP[172.28.0.12]: no router found\n",
            "could not map port using UPnP[172.28.0.12]: no router found\n",
            "48.10% complete (down: 52486.8 kB/s up: 1513.7 kB/s peers: 9) downloading LITS17 (https://academictorrents.com/announce.php)[127.0.0.1:6881] v1 skipping tracker announce (unreachable) \"\" (4)\n",
            "LITS17 (https://ipv6.academictorrents.com/announce.php)[127.0.0.1:6881] v1 skipping tracker announce (unreachable) \"\" (4)\n",
            "LITS17 (udp://tracker.opentrackr.org:1337/announce)[127.0.0.1:6881] v1 skipping tracker announce (unreachable) \"\" (3)\n",
            "LITS17 (https://ipv6.academictorrents.com/announce.php)[172.28.0.12:6881] v1 unspecified system error \"\" (4)\n",
            "LITS17 (https://academictorrents.com/announce.php)[172.28.0.12:6881] v1 unspecified system error \"\" (4)\n",
            "100.00% complete (down: 15802.2 kB/s up: 456.9 kB/s peers: 0) seeding LITS17 (https://academictorrents.com/announce.php)[127.0.0.1:6881] v1 skipping tracker announce (unreachable) \"\" (5)\n",
            "LITS17 (https://ipv6.academictorrents.com/announce.php)[127.0.0.1:6881] v1 skipping tracker announce (unreachable) \"\" (5)\n",
            "LITS17 (udp://tracker.opentrackr.org:1337/announce)[127.0.0.1:6881] v1 skipping tracker announce (unreachable) \"\" (4)\n",
            "LITS17 (https://academictorrents.com/announce.php)[172.28.0.12:6881] v1 unspecified system error \"\" (5)\n",
            "LITS17 (https://ipv6.academictorrents.com/announce.php)[172.28.0.12:6881] v1 unspecified system error \"\" (5)\n",
            "LITS17 complete\n",
            "\n",
            "Unzipping files in /content/LITS17\n",
            "Unzipping complete\n"
          ]
        }
      ],
      "source": [
        "from kltn.datasets.prepare_data import prepare_dataset_LiTS\n",
        "prepare_dataset_LiTS(dir_name=config[\"source_folder_lits\"])"
      ]
    },
    {
      "cell_type": "markdown",
      "id": "a46573c5",
      "metadata": {
        "id": "a46573c5"
      },
      "source": [
        "## Load data"
      ]
    },
    {
      "cell_type": "code",
      "execution_count": 7,
      "id": "0df10dff",
      "metadata": {
        "id": "0df10dff",
        "outputId": "2a125291-3716-40da-b248-f1ae9e5a75e3",
        "colab": {
          "base_uri": "https://localhost:8080/"
        }
      },
      "outputs": [
        {
          "output_type": "stream",
          "name": "stdout",
          "text": [
            "105 26\n"
          ]
        }
      ],
      "source": [
        "full_train_dataset, val_dataset = get_datasets_lits(source_folder=config[\"source_folder_lits\"], seed=123, fold_number=2, mode=\"liver\")\n",
        "print(len(full_train_dataset), len(val_dataset))"
      ]
    },
    {
      "cell_type": "code",
      "execution_count": 8,
      "id": "0f6a7ff7",
      "metadata": {
        "id": "0f6a7ff7"
      },
      "outputs": [],
      "source": [
        "train_loader = torch.utils.data.DataLoader(full_train_dataset, batch_size=1, shuffle=True,\n",
        "                                           num_workers=1, pin_memory=True, drop_last=True)\n",
        "val_loader = torch.utils.data.DataLoader(val_dataset, batch_size=1, shuffle=False,\n",
        "                                         pin_memory=True, num_workers=1)"
      ]
    },
    {
      "cell_type": "markdown",
      "id": "9750192f",
      "metadata": {
        "id": "9750192f"
      },
      "source": [
        "## Training"
      ]
    },
    {
      "cell_type": "code",
      "source": [
        "model = ModelFactory.get_model(\"unet3d_resnextcot\",in_channels=1, n_classes=1, n_channels=16).to(device)"
      ],
      "metadata": {
        "id": "I69lGF-3DOuW"
      },
      "id": "I69lGF-3DOuW",
      "execution_count": 10,
      "outputs": []
    },
    {
      "cell_type": "code",
      "execution_count": 11,
      "id": "413a6769",
      "metadata": {
        "id": "413a6769"
      },
      "outputs": [],
      "source": [
        "criterion = DiceLossWSigmoid().to(device)\n",
        "\n",
        "dice_acc = DiceMetric(include_background=False, reduction='mean_batch', get_not_nans=True)\n",
        "\n",
        "optimizer = torch.optim.AdamW(model.parameters(), lr=float(config[\"learning_rate\"]), weight_decay=float(config[\"weight_decay\"]))\n",
        "scheduler = torch.optim.lr_scheduler.CosineAnnealingLR(optimizer, T_max=int(config[\"max_epochs\"]), eta_min = float(config[\"eta_min\"]))"
      ]
    },
    {
      "cell_type": "code",
      "execution_count": null,
      "id": "d2cd99ac",
      "metadata": {
        "id": "d2cd99ac"
      },
      "outputs": [],
      "source": [
        "LOGGER.info(\"[TRAINER] Start TRAIN process...\")\n",
        "\n",
        "(\n",
        "    val_acc_max,\n",
        "    best_epoch,\n",
        "    dices_liver,\n",
        "    loss_epochs,\n",
        "    trains_epoch,\n",
        "    ious_liver,\n",
        "    precisions_liver,\n",
        "    recalls_liver,\n",
        "    time_tmp\n",
        ") = trainer_stage1(\n",
        "    model=model,\n",
        "    train_loader=train_loader,\n",
        "    val_loader=val_loader,\n",
        "    optimizer=optimizer,\n",
        "    loss_func=criterion,\n",
        "    acc_func=dice_acc,\n",
        "    scheduler=scheduler,\n",
        "    batch_size=config[\"batch_size\"],\n",
        "    max_epochs = config[\"max_epochs\"],\n",
        "    start_epoch = config[\"start_epoch\"],\n",
        "    val_every=config[\"val_every\"],\n",
        "    path_save_model=config[\"path_save_model_state\"],\n",
        "    logger=LOGGER,\n",
        "    save_model=True,\n",
        "    post_fix=\"liver\"\n",
        ")"
      ]
    },
    {
      "cell_type": "code",
      "execution_count": null,
      "id": "b2682dee",
      "metadata": {
        "id": "b2682dee"
      },
      "outputs": [],
      "source": [
        "import json\n",
        "path_save_result = f\"/content/drive/MyDrive/KLTN/code/result_model_{model.__class__.__name__}_liver.json\"\n",
        "\n",
        "results = {\n",
        "    \"dice_liver\": [float(x) for x in np.array(dices_liver, dtype=np.float32)],\n",
        "    \"loss\": [float(x) for x in np.array(loss_epochs, dtype= np.float32)],\n",
        "    \"iou_liver\": [float(x) for x in np.array(ious_liver, dtype=np.float32)],\n",
        "    \"precision_liver\": [float(x) for x in np.array(precisions_liver, dtype=np.float32)],\n",
        "    \"recall_liver\": [float(x) for x in np.array(recalls_liver, dtype=np.float32)],\n",
        "    \"best_epoch\": best_epoch,\n",
        "    \"time_train\": time_tmp\n",
        "}\n",
        "with open(path_save_result, \"w\") as f:\n",
        "    json.dump(results, f, indent=4)"
      ]
    }
  ],
  "metadata": {
    "language_info": {
      "name": "python"
    },
    "colab": {
      "provenance": [],
      "gpuType": "T4",
      "include_colab_link": true
    },
    "accelerator": "GPU",
    "kernelspec": {
      "name": "python3",
      "display_name": "Python 3"
    }
  },
  "nbformat": 4,
  "nbformat_minor": 5
}