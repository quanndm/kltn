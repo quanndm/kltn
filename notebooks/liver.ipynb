{
  "cells": [
    {
      "cell_type": "markdown",
      "metadata": {
        "id": "view-in-github",
        "colab_type": "text"
      },
      "source": [
        "<a href=\"https://colab.research.google.com/github/quanndm/kltn/blob/dev/notebooks/liver.ipynb\" target=\"_parent\"><img src=\"https://colab.research.google.com/assets/colab-badge.svg\" alt=\"Open In Colab\"/></a>"
      ]
    },
    {
      "cell_type": "markdown",
      "id": "0a8a3684",
      "metadata": {
        "id": "0a8a3684"
      },
      "source": [
        "## Init - import library - download data"
      ]
    },
    {
      "cell_type": "code",
      "execution_count": 1,
      "id": "6d609b31",
      "metadata": {
        "colab": {
          "base_uri": "https://localhost:8080/"
        },
        "id": "6d609b31",
        "outputId": "01001296-7f3d-45d1-8364-b0e4ff42e629"
      },
      "outputs": [
        {
          "output_type": "stream",
          "name": "stdout",
          "text": [
            "Cloning into 'kltn'...\n",
            "remote: Enumerating objects: 1319, done.\u001b[K\n",
            "remote: Counting objects: 100% (107/107), done.\u001b[K\n",
            "remote: Compressing objects: 100% (81/81), done.\u001b[K\n",
            "remote: Total 1319 (delta 69), reused 49 (delta 26), pack-reused 1212 (from 2)\u001b[K\n",
            "Receiving objects: 100% (1319/1319), 13.44 MiB | 8.06 MiB/s, done.\n",
            "Resolving deltas: 100% (857/857), done.\n"
          ]
        }
      ],
      "source": [
        "!rm -rf kltn\n",
        "!rm -rf sample_data\n",
        "!git clone -b dev https://github.com/quanndm/kltn.git"
      ]
    },
    {
      "cell_type": "code",
      "execution_count": 2,
      "id": "756b7c38",
      "metadata": {
        "id": "756b7c38"
      },
      "outputs": [],
      "source": [
        "from kltn.init.install_dependencies import install_packages, load_config\n",
        "install_packages(\"./kltn\")\n",
        "config = load_config(\"./kltn/parameters.yaml\")"
      ]
    },
    {
      "cell_type": "code",
      "execution_count": null,
      "id": "2fed11ba",
      "metadata": {
        "id": "2fed11ba"
      },
      "outputs": [],
      "source": [
        "import torch\n",
        "import matplotlib.pyplot as plt\n",
        "import numpy as np\n",
        "from google.colab import drive\n",
        "\n",
        "from kltn import *\n",
        "from kltn.datasets.get_datasets import get_datasets_lits\n",
        "from kltn.utils.logger import init_logger\n",
        "from kltn.utils.train_val_epochs import  trainer_stage1\n",
        "from kltn.utils.metrics import  DiceMetric, TverskyLossWSigmoid, DiceLossWSigmoid\n",
        "from kltn.models.model_factory import ModelFactory\n",
        "from kltn.utils.visualize_results import visualize_results"
      ]
    },
    {
      "cell_type": "code",
      "execution_count": null,
      "id": "efa7e2bd",
      "metadata": {
        "id": "efa7e2bd"
      },
      "outputs": [],
      "source": [
        "drive.flush_and_unmount()\n",
        "drive.mount(\"/content/drive\")"
      ]
    },
    {
      "cell_type": "code",
      "execution_count": null,
      "id": "2a416363",
      "metadata": {
        "id": "2a416363"
      },
      "outputs": [],
      "source": [
        "LOGGER = init_logger(config[\"log_path\"])\n",
        "device = torch.device(\"cuda\" if torch.cuda.is_available() else \"cpu\")"
      ]
    },
    {
      "cell_type": "code",
      "execution_count": null,
      "id": "398dbce7",
      "metadata": {
        "id": "398dbce7"
      },
      "outputs": [],
      "source": [
        "from kltn.datasets.prepare_data import prepare_dataset_LiTS\n",
        "prepare_dataset_LiTS(dir_name=config[\"source_folder_lits\"])"
      ]
    },
    {
      "cell_type": "markdown",
      "id": "a46573c5",
      "metadata": {
        "id": "a46573c5"
      },
      "source": [
        "## Load data"
      ]
    },
    {
      "cell_type": "code",
      "execution_count": null,
      "id": "0df10dff",
      "metadata": {
        "colab": {
          "base_uri": "https://localhost:8080/"
        },
        "id": "0df10dff",
        "outputId": "3629e9d3-7d0e-45e9-db65-861a105fbf0e"
      },
      "outputs": [
        {
          "output_type": "stream",
          "name": "stdout",
          "text": [
            "105 26\n"
          ]
        }
      ],
      "source": [
        "full_train_dataset, val_dataset = get_datasets_lits(source_folder=config[\"source_folder_lits\"], seed=123, fold_number=2, mode=\"liver\")\n",
        "print(len(full_train_dataset), len(val_dataset))"
      ]
    },
    {
      "cell_type": "code",
      "execution_count": null,
      "id": "0f6a7ff7",
      "metadata": {
        "id": "0f6a7ff7"
      },
      "outputs": [],
      "source": [
        "train_loader = torch.utils.data.DataLoader(full_train_dataset, batch_size=1, shuffle=True,\n",
        "                                           num_workers=1, pin_memory=True, drop_last=True)\n",
        "val_loader = torch.utils.data.DataLoader(val_dataset, batch_size=1, shuffle=False,\n",
        "                                         pin_memory=True, num_workers=1)"
      ]
    },
    {
      "cell_type": "markdown",
      "id": "9750192f",
      "metadata": {
        "id": "9750192f"
      },
      "source": [
        "## Training"
      ]
    },
    {
      "cell_type": "code",
      "source": [
        "model = ModelFactory.get_model(\"unet3d_resnextcot\",in_channels=1, n_classes=1, n_channels=16).to(device)"
      ],
      "metadata": {
        "id": "I69lGF-3DOuW"
      },
      "id": "I69lGF-3DOuW",
      "execution_count": null,
      "outputs": []
    },
    {
      "cell_type": "code",
      "execution_count": null,
      "id": "413a6769",
      "metadata": {
        "id": "413a6769"
      },
      "outputs": [],
      "source": [
        "criterion = DiceLossWSigmoid().to(device)\n",
        "\n",
        "dice_acc = DiceMetric(include_background=False, reduction='mean_batch', get_not_nans=True)\n",
        "\n",
        "optimizer = torch.optim.AdamW(model.parameters(), lr=float(config[\"learning_rate\"]), weight_decay=float(config[\"weight_decay\"]))\n",
        "scheduler = torch.optim.lr_scheduler.CosineAnnealingLR(optimizer, T_max=int(config[\"max_epochs\"]), eta_min = float(config[\"eta_min\"]))"
      ]
    },
    {
      "cell_type": "code",
      "execution_count": null,
      "id": "d2cd99ac",
      "metadata": {
        "colab": {
          "base_uri": "https://localhost:8080/"
        },
        "id": "d2cd99ac",
        "outputId": "d08aa0da-979f-48c0-b370-41af7755eb0d"
      },
      "outputs": [
        {
          "output_type": "stream",
          "name": "stderr",
          "text": [
            "[TRAINER] Start TRAIN process...\n",
            "INFO:kltn.utils.logger:[TRAINER] Start TRAIN process...\n",
            "\n",
            "==============================Training epoch 1==============================\n",
            "INFO:kltn.utils.logger:\n",
            "==============================Training epoch 1==============================\n"
          ]
        },
        {
          "output_type": "stream",
          "name": "stdout",
          "text": [
            "Epoch 1/5 1/105 loss: 0.7993 time 3.20s\n",
            "Epoch 1/5 2/105 loss: 0.7768 time 1.22s\n",
            "Epoch 1/5 3/105 loss: 0.7174 time 5.65s\n",
            "Epoch 1/5 4/105 loss: 0.7211 time 4.09s\n",
            "Epoch 1/5 5/105 loss: 0.7074 time 1.49s\n",
            "Epoch 1/5 6/105 loss: 0.7162 time 4.69s\n",
            "Epoch 1/5 7/105 loss: 0.6581 time 5.10s\n",
            "Epoch 1/5 8/105 loss: 0.6257 time 4.69s\n",
            "Epoch 1/5 9/105 loss: 0.6319 time 1.07s\n",
            "Epoch 1/5 10/105 loss: 0.6270 time 2.81s\n",
            "Epoch 1/5 11/105 loss: 0.6170 time 2.13s\n",
            "Epoch 1/5 12/105 loss: 0.6070 time 4.93s\n",
            "Epoch 1/5 13/105 loss: 0.5846 time 4.55s\n",
            "Epoch 1/5 14/105 loss: 0.5717 time 5.49s\n",
            "Epoch 1/5 15/105 loss: 0.5527 time 4.04s\n",
            "Epoch 1/5 16/105 loss: 0.5349 time 8.45s\n",
            "Epoch 1/5 17/105 loss: 0.5219 time 1.33s\n",
            "Epoch 1/5 18/105 loss: 0.5051 time 5.05s\n",
            "Epoch 1/5 19/105 loss: 0.4893 time 2.21s\n",
            "Epoch 1/5 20/105 loss: 0.4755 time 1.59s\n",
            "Epoch 1/5 21/105 loss: 0.4629 time 0.94s\n",
            "Epoch 1/5 22/105 loss: 0.4499 time 6.32s\n",
            "Epoch 1/5 23/105 loss: 0.4418 time 5.24s\n",
            "Epoch 1/5 24/105 loss: 0.4451 time 4.23s\n",
            "Epoch 1/5 25/105 loss: 0.4355 time 4.98s\n",
            "Epoch 1/5 26/105 loss: 0.4313 time 1.23s\n",
            "Epoch 1/5 27/105 loss: 0.4219 time 0.81s\n",
            "Epoch 1/5 28/105 loss: 0.4150 time 6.14s\n",
            "Epoch 1/5 29/105 loss: 0.4076 time 4.99s\n",
            "Epoch 1/5 30/105 loss: 0.4003 time 4.11s\n",
            "Epoch 1/5 31/105 loss: 0.3961 time 5.05s\n",
            "Epoch 1/5 32/105 loss: 0.3887 time 5.98s\n",
            "Epoch 1/5 33/105 loss: 0.3820 time 5.65s\n",
            "Epoch 1/5 34/105 loss: 0.3766 time 4.65s\n",
            "Epoch 1/5 35/105 loss: 0.3709 time 2.03s\n",
            "Epoch 1/5 36/105 loss: 0.3674 time 0.88s\n",
            "Epoch 1/5 37/105 loss: 0.3614 time 3.48s\n",
            "Epoch 1/5 38/105 loss: 0.3578 time 5.30s\n",
            "Epoch 1/5 39/105 loss: 0.3542 time 3.79s\n",
            "Epoch 1/5 40/105 loss: 0.3496 time 5.51s\n",
            "Epoch 1/5 41/105 loss: 0.3455 time 0.98s\n",
            "Epoch 1/5 42/105 loss: 0.3431 time 5.75s\n",
            "Epoch 1/5 43/105 loss: 0.3394 time 4.06s\n",
            "Epoch 1/5 44/105 loss: 0.3355 time 1.13s\n",
            "Epoch 1/5 45/105 loss: 0.3327 time 1.23s\n",
            "Epoch 1/5 46/105 loss: 0.3311 time 0.85s\n",
            "Epoch 1/5 47/105 loss: 0.3301 time 3.56s\n",
            "Epoch 1/5 48/105 loss: 0.3262 time 3.86s\n",
            "Epoch 1/5 49/105 loss: 0.3219 time 1.71s\n",
            "Epoch 1/5 50/105 loss: 0.3177 time 1.25s\n",
            "Epoch 1/5 51/105 loss: 0.3154 time 2.39s\n",
            "Epoch 1/5 52/105 loss: 0.3125 time 1.26s\n",
            "Epoch 1/5 53/105 loss: 0.3097 time 0.89s\n",
            "Epoch 1/5 54/105 loss: 0.3077 time 1.41s\n",
            "Epoch 1/5 55/105 loss: 0.3070 time 1.43s\n",
            "Epoch 1/5 56/105 loss: 0.3043 time 0.99s\n",
            "Epoch 1/5 57/105 loss: 0.3027 time 2.22s\n",
            "Epoch 1/5 58/105 loss: 0.3004 time 1.15s\n",
            "Epoch 1/5 59/105 loss: 0.2974 time 5.03s\n",
            "Epoch 1/5 60/105 loss: 0.2964 time 1.27s\n",
            "Epoch 1/5 61/105 loss: 0.2948 time 1.21s\n",
            "Epoch 1/5 62/105 loss: 0.2919 time 0.93s\n",
            "Epoch 1/5 63/105 loss: 0.2901 time 4.64s\n",
            "Epoch 1/5 64/105 loss: 0.2876 time 5.52s\n",
            "Epoch 1/5 65/105 loss: 0.2858 time 4.72s\n",
            "Epoch 1/5 66/105 loss: 0.2833 time 3.31s\n",
            "Epoch 1/5 67/105 loss: 0.2821 time 5.09s\n",
            "Epoch 1/5 68/105 loss: 0.2798 time 5.87s\n",
            "Epoch 1/5 69/105 loss: 0.2785 time 5.37s\n",
            "Epoch 1/5 70/105 loss: 0.2771 time 5.16s\n",
            "Epoch 1/5 71/105 loss: 0.2754 time 1.50s\n",
            "Epoch 1/5 72/105 loss: 0.2736 time 0.74s\n",
            "Epoch 1/5 73/105 loss: 0.2730 time 1.95s\n",
            "Epoch 1/5 74/105 loss: 0.2707 time 7.42s\n",
            "Epoch 1/5 75/105 loss: 0.2707 time 9.42s\n",
            "Epoch 1/5 76/105 loss: 0.2692 time 2.45s\n",
            "Epoch 1/5 77/105 loss: 0.2671 time 3.75s\n",
            "Epoch 1/5 78/105 loss: 0.2651 time 5.82s\n",
            "Epoch 1/5 79/105 loss: 0.2633 time 0.92s\n",
            "Epoch 1/5 80/105 loss: 0.2631 time 2.13s\n",
            "Epoch 1/5 81/105 loss: 0.2615 time 5.64s\n",
            "Epoch 1/5 82/105 loss: 0.2602 time 2.19s\n",
            "Epoch 1/5 83/105 loss: 0.2586 time 4.42s\n",
            "Epoch 1/5 84/105 loss: 0.2568 time 4.79s\n",
            "Epoch 1/5 85/105 loss: 0.2564 time 2.19s\n",
            "Epoch 1/5 86/105 loss: 0.2552 time 1.25s\n",
            "Epoch 1/5 87/105 loss: 0.2534 time 0.67s\n",
            "Epoch 1/5 88/105 loss: 0.2517 time 4.96s\n",
            "Epoch 1/5 89/105 loss: 0.2501 time 0.95s\n",
            "Epoch 1/5 90/105 loss: 0.2483 time 4.87s\n",
            "Epoch 1/5 91/105 loss: 0.2469 time 5.26s\n",
            "Epoch 1/5 92/105 loss: 0.2455 time 2.26s\n",
            "Epoch 1/5 93/105 loss: 0.2473 time 1.33s\n",
            "Epoch 1/5 94/105 loss: 0.2457 time 0.73s\n",
            "Epoch 1/5 95/105 loss: 0.2455 time 2.51s\n",
            "Epoch 1/5 96/105 loss: 0.2441 time 4.40s\n",
            "Epoch 1/5 97/105 loss: 0.2436 time 5.49s\n",
            "Epoch 1/5 98/105 loss: 0.2421 time 4.59s\n",
            "Epoch 1/5 99/105 loss: 0.2410 time 4.59s\n",
            "Epoch 1/5 100/105 loss: 0.2405 time 4.15s\n",
            "Epoch 1/5 101/105 loss: 0.2392 time 3.96s\n",
            "Epoch 1/5 102/105 loss: 0.2382 time 6.53s\n",
            "Epoch 1/5 103/105 loss: 0.2373 time 7.09s\n",
            "Epoch 1/5 104/105 loss: 0.2362 time 3.42s\n"
          ]
        },
        {
          "output_type": "stream",
          "name": "stderr",
          "text": [
            "Final training epochs: 1/5 ---[loss: 0.2352] ---[time 367.07s]\n",
            "INFO:kltn.utils.logger:Final training epochs: 1/5 ---[loss: 0.2352] ---[time 367.07s]\n",
            "\n",
            "********************Epoch 1 Validation********************\n",
            "INFO:kltn.utils.logger:\n",
            "********************Epoch 1 Validation********************\n"
          ]
        },
        {
          "output_type": "stream",
          "name": "stdout",
          "text": [
            "Epoch 1/5 105/105 loss: 0.2352 time 3.32s\n"
          ]
        },
        {
          "output_type": "stream",
          "name": "stderr",
          "text": [
            "Val 1/5 1/26, Dice_Liver: 0.865247, time 2.97s\n",
            "INFO:kltn.utils.logger:Val 1/5 1/26, Dice_Liver: 0.865247, time 2.97s\n",
            "Val 1/5 2/26, Dice_Liver: 0.919390, time 0.16s\n",
            "INFO:kltn.utils.logger:Val 1/5 2/26, Dice_Liver: 0.919390, time 0.16s\n",
            "Val 1/5 3/26, Dice_Liver: 0.883482, time 4.77s\n",
            "INFO:kltn.utils.logger:Val 1/5 3/26, Dice_Liver: 0.883482, time 4.77s\n",
            "Val 1/5 4/26, Dice_Liver: 0.893390, time 6.48s\n",
            "INFO:kltn.utils.logger:Val 1/5 4/26, Dice_Liver: 0.893390, time 6.48s\n",
            "Val 1/5 5/26, Dice_Liver: 0.912058, time 0.63s\n",
            "INFO:kltn.utils.logger:Val 1/5 5/26, Dice_Liver: 0.912058, time 0.63s\n",
            "Val 1/5 6/26, Dice_Liver: 0.898304, time 4.35s\n",
            "INFO:kltn.utils.logger:Val 1/5 6/26, Dice_Liver: 0.898304, time 4.35s\n",
            "Val 1/5 7/26, Dice_Liver: 0.920769, time 4.33s\n",
            "INFO:kltn.utils.logger:Val 1/5 7/26, Dice_Liver: 0.920769, time 4.33s\n",
            "Val 1/5 8/26, Dice_Liver: 0.873534, time 3.29s\n",
            "INFO:kltn.utils.logger:Val 1/5 8/26, Dice_Liver: 0.873534, time 3.29s\n",
            "Val 1/5 9/26, Dice_Liver: 0.904651, time 0.56s\n",
            "INFO:kltn.utils.logger:Val 1/5 9/26, Dice_Liver: 0.904651, time 0.56s\n",
            "Val 1/5 10/26, Dice_Liver: 0.884183, time 0.54s\n",
            "INFO:kltn.utils.logger:Val 1/5 10/26, Dice_Liver: 0.884183, time 0.54s\n",
            "Val 1/5 11/26, Dice_Liver: 0.792754, time 2.40s\n",
            "INFO:kltn.utils.logger:Val 1/5 11/26, Dice_Liver: 0.792754, time 2.40s\n",
            "Val 1/5 12/26, Dice_Liver: 0.904792, time 4.44s\n",
            "INFO:kltn.utils.logger:Val 1/5 12/26, Dice_Liver: 0.904792, time 4.44s\n",
            "Val 1/5 13/26, Dice_Liver: 0.913027, time 4.61s\n",
            "INFO:kltn.utils.logger:Val 1/5 13/26, Dice_Liver: 0.913027, time 4.61s\n",
            "Val 1/5 14/26, Dice_Liver: 0.922111, time 2.46s\n",
            "INFO:kltn.utils.logger:Val 1/5 14/26, Dice_Liver: 0.922111, time 2.46s\n",
            "Val 1/5 15/26, Dice_Liver: 0.875238, time 1.41s\n",
            "INFO:kltn.utils.logger:Val 1/5 15/26, Dice_Liver: 0.875238, time 1.41s\n",
            "Val 1/5 16/26, Dice_Liver: 0.894739, time 3.79s\n",
            "INFO:kltn.utils.logger:Val 1/5 16/26, Dice_Liver: 0.894739, time 3.79s\n",
            "Val 1/5 17/26, Dice_Liver: 0.931731, time 4.51s\n",
            "INFO:kltn.utils.logger:Val 1/5 17/26, Dice_Liver: 0.931731, time 4.51s\n",
            "Val 1/5 18/26, Dice_Liver: 0.808656, time 0.51s\n",
            "INFO:kltn.utils.logger:Val 1/5 18/26, Dice_Liver: 0.808656, time 0.51s\n",
            "Val 1/5 19/26, Dice_Liver: 0.912381, time 3.58s\n",
            "INFO:kltn.utils.logger:Val 1/5 19/26, Dice_Liver: 0.912381, time 3.58s\n",
            "Val 1/5 20/26, Dice_Liver: 0.847980, time 2.08s\n",
            "INFO:kltn.utils.logger:Val 1/5 20/26, Dice_Liver: 0.847980, time 2.08s\n",
            "Val 1/5 21/26, Dice_Liver: 0.847318, time 4.33s\n",
            "INFO:kltn.utils.logger:Val 1/5 21/26, Dice_Liver: 0.847318, time 4.33s\n",
            "Val 1/5 22/26, Dice_Liver: 0.899976, time 1.26s\n",
            "INFO:kltn.utils.logger:Val 1/5 22/26, Dice_Liver: 0.899976, time 1.26s\n",
            "Val 1/5 23/26, Dice_Liver: 0.864298, time 2.88s\n",
            "INFO:kltn.utils.logger:Val 1/5 23/26, Dice_Liver: 0.864298, time 2.88s\n",
            "Val 1/5 24/26, Dice_Liver: 0.926740, time 0.69s\n",
            "INFO:kltn.utils.logger:Val 1/5 24/26, Dice_Liver: 0.926740, time 0.69s\n",
            "Val 1/5 25/26, Dice_Liver: 0.849771, time 4.81s\n",
            "INFO:kltn.utils.logger:Val 1/5 25/26, Dice_Liver: 0.849771, time 4.81s\n",
            "Val 1/5 26/26, Dice_Liver: 0.836281, time 5.97s\n",
            "INFO:kltn.utils.logger:Val 1/5 26/26, Dice_Liver: 0.836281, time 5.97s\n",
            "\n",
            "********************Epoch Summary********************\n",
            "INFO:kltn.utils.logger:\n",
            "********************Epoch Summary********************\n",
            "Final validation stats 1/5,   Dice_Liver: 0.883954 , time 77.96s\n",
            "INFO:kltn.utils.logger:Final validation stats 1/5,   Dice_Liver: 0.883954 , time 77.96s\n",
            "New best (0.000000 --> 0.883954). At epoch 1. Time consuming: 445.05\n",
            "INFO:kltn.utils.logger:New best (0.000000 --> 0.883954). At epoch 1. Time consuming: 445.05\n",
            "Epoch 1/5 ---[loss: 0.2352] ---[val_dice: 0.883954] ---[time 78.05s]\n",
            "INFO:kltn.utils.logger:Epoch 1/5 ---[loss: 0.2352] ---[val_dice: 0.883954] ---[time 78.05s]\n",
            "\n",
            "==============================Training epoch 2==============================\n",
            "INFO:kltn.utils.logger:\n",
            "==============================Training epoch 2==============================\n"
          ]
        },
        {
          "output_type": "stream",
          "name": "stdout",
          "text": [
            "New best (0.000000 --> 0.883954). At epoch 1\n",
            "Epoch 2/5 1/105 loss: 0.0919 time 4.54s\n",
            "Epoch 2/5 2/105 loss: 0.1004 time 3.99s\n",
            "Epoch 2/5 3/105 loss: 0.1161 time 1.06s\n",
            "Epoch 2/5 4/105 loss: 0.1177 time 2.06s\n",
            "Epoch 2/5 5/105 loss: 0.1163 time 5.04s\n",
            "Epoch 2/5 6/105 loss: 0.1111 time 4.67s\n",
            "Epoch 2/5 7/105 loss: 0.1136 time 5.01s\n",
            "Epoch 2/5 8/105 loss: 0.1160 time 5.28s\n",
            "Epoch 2/5 9/105 loss: 0.1177 time 0.68s\n",
            "Epoch 2/5 10/105 loss: 0.1138 time 0.69s\n",
            "Epoch 2/5 11/105 loss: 0.1173 time 1.59s\n",
            "Epoch 2/5 12/105 loss: 0.1160 time 4.44s\n",
            "Epoch 2/5 13/105 loss: 0.1137 time 4.85s\n",
            "Epoch 2/5 14/105 loss: 0.1122 time 1.79s\n",
            "Epoch 2/5 15/105 loss: 0.1132 time 1.23s\n",
            "Epoch 2/5 16/105 loss: 0.1126 time 1.59s\n",
            "Epoch 2/5 17/105 loss: 0.1177 time 0.68s\n",
            "Epoch 2/5 18/105 loss: 0.1220 time 3.01s\n",
            "Epoch 2/5 19/105 loss: 0.1221 time 1.52s\n",
            "Epoch 2/5 20/105 loss: 0.1201 time 4.87s\n",
            "Epoch 2/5 21/105 loss: 0.1225 time 1.98s\n",
            "Epoch 2/5 22/105 loss: 0.1225 time 1.21s\n",
            "Epoch 2/5 23/105 loss: 0.1270 time 3.05s\n",
            "Epoch 2/5 24/105 loss: 0.1254 time 4.82s\n",
            "Epoch 2/5 25/105 loss: 0.1253 time 1.13s\n",
            "Epoch 2/5 26/105 loss: 0.1259 time 1.14s\n",
            "Epoch 2/5 27/105 loss: 0.1246 time 4.24s\n",
            "Epoch 2/5 28/105 loss: 0.1250 time 1.31s\n",
            "Epoch 2/5 29/105 loss: 0.1245 time 1.14s\n",
            "Epoch 2/5 30/105 loss: 0.1266 time 5.56s\n",
            "Epoch 2/5 31/105 loss: 0.1256 time 5.09s\n",
            "Epoch 2/5 32/105 loss: 0.1252 time 1.09s\n",
            "Epoch 2/5 33/105 loss: 0.1264 time 1.18s\n",
            "Epoch 2/5 34/105 loss: 0.1252 time 3.96s\n",
            "Epoch 2/5 35/105 loss: 0.1244 time 3.82s\n",
            "Epoch 2/5 36/105 loss: 0.1254 time 1.37s\n",
            "Epoch 2/5 37/105 loss: 0.1282 time 1.78s\n",
            "Epoch 2/5 38/105 loss: 0.1268 time 6.25s\n",
            "Epoch 2/5 39/105 loss: 0.1256 time 4.86s\n",
            "Epoch 2/5 40/105 loss: 0.1255 time 1.68s\n",
            "Epoch 2/5 41/105 loss: 0.1257 time 4.89s\n",
            "Epoch 2/5 42/105 loss: 0.1244 time 4.83s\n",
            "Epoch 2/5 43/105 loss: 0.1234 time 3.18s\n",
            "Epoch 2/5 44/105 loss: 0.1225 time 0.68s\n",
            "Epoch 2/5 45/105 loss: 0.1225 time 4.51s\n",
            "Epoch 2/5 46/105 loss: 0.1217 time 4.42s\n",
            "Epoch 2/5 47/105 loss: 0.1217 time 5.32s\n",
            "Epoch 2/5 48/105 loss: 0.1239 time 3.92s\n",
            "Epoch 2/5 49/105 loss: 0.1234 time 0.69s\n",
            "Epoch 2/5 50/105 loss: 0.1234 time 2.59s\n",
            "Epoch 2/5 51/105 loss: 0.1235 time 4.29s\n",
            "Epoch 2/5 52/105 loss: 0.1249 time 1.18s\n",
            "Epoch 2/5 53/105 loss: 0.1243 time 4.93s\n",
            "Epoch 2/5 54/105 loss: 0.1239 time 4.25s\n",
            "Epoch 2/5 55/105 loss: 0.1239 time 2.88s\n",
            "Epoch 2/5 56/105 loss: 0.1230 time 5.29s\n",
            "Epoch 2/5 57/105 loss: 0.1232 time 4.52s\n",
            "Epoch 2/5 58/105 loss: 0.1233 time 6.57s\n",
            "Epoch 2/5 59/105 loss: 0.1229 time 0.98s\n",
            "Epoch 2/5 60/105 loss: 0.1237 time 2.28s\n",
            "Epoch 2/5 61/105 loss: 0.1226 time 2.67s\n",
            "Epoch 2/5 62/105 loss: 0.1219 time 1.19s\n",
            "Epoch 2/5 63/105 loss: 0.1216 time 5.79s\n",
            "Epoch 2/5 64/105 loss: 0.1208 time 1.03s\n",
            "Epoch 2/5 65/105 loss: 0.1206 time 3.61s\n",
            "Epoch 2/5 66/105 loss: 0.1212 time 1.96s\n",
            "Epoch 2/5 67/105 loss: 0.1207 time 5.40s\n",
            "Epoch 2/5 68/105 loss: 0.1200 time 6.75s\n",
            "Epoch 2/5 69/105 loss: 0.1194 time 3.31s\n",
            "Epoch 2/5 70/105 loss: 0.1195 time 0.79s\n",
            "Epoch 2/5 71/105 loss: 0.1194 time 1.06s\n",
            "Epoch 2/5 72/105 loss: 0.1188 time 5.98s\n",
            "Epoch 2/5 73/105 loss: 0.1219 time 1.69s\n",
            "Epoch 2/5 74/105 loss: 0.1213 time 0.73s\n",
            "Epoch 2/5 75/105 loss: 0.1223 time 4.10s\n"
          ]
        }
      ],
      "source": [
        "LOGGER.info(\"[TRAINER] Start TRAIN process...\")\n",
        "\n",
        "(\n",
        "    val_acc_max,\n",
        "    best_epoch,\n",
        "    dices_liver,\n",
        "    loss_epochs,\n",
        "    trains_epoch,\n",
        "    ious_liver,\n",
        "    precisions_liver,\n",
        "    recalls_liver,\n",
        "    time_tmp\n",
        ") = trainer_stage1(\n",
        "    model=model,\n",
        "    train_loader=train_loader,\n",
        "    val_loader=val_loader,\n",
        "    optimizer=optimizer,\n",
        "    loss_func=criterion,\n",
        "    acc_func=dice_acc,\n",
        "    scheduler=scheduler,\n",
        "    batch_size=config[\"batch_size\"],\n",
        "    max_epochs = config[\"max_epochs\"],\n",
        "    start_epoch = config[\"start_epoch\"],\n",
        "    val_every=config[\"val_every\"],\n",
        "    path_save_model=config[\"path_save_model_state\"],\n",
        "    logger=LOGGER,\n",
        "    save_model=True,\n",
        "    post_fix=\"liver\"\n",
        ")"
      ]
    },
    {
      "cell_type": "code",
      "execution_count": null,
      "id": "b2682dee",
      "metadata": {
        "id": "b2682dee"
      },
      "outputs": [],
      "source": [
        "import json\n",
        "path_save_result = f\"/content/drive/MyDrive/KLTN/code/result_model_{model.__class__.__name__}_liver.json\"\n",
        "\n",
        "results = {\n",
        "    \"dice_liver\": [float(x) for x in np.array(dices_liver, dtype=np.float32)],\n",
        "    \"loss\": [float(x) for x in np.array(loss_epochs, dtype= np.float32)],\n",
        "    \"iou_liver\": [float(x) for x in np.array(ious_liver, dtype=np.float32)],\n",
        "    \"precision_liver\": [float(x) for x in np.array(precisions_liver, dtype=np.float32)],\n",
        "    \"recall_liver\": [float(x) for x in np.array(recalls_liver, dtype=np.float32)],\n",
        "    \"best_epoch\": best_epoch,\n",
        "    \"time_train\": time_tmp\n",
        "}\n",
        "with open(path_save_result, \"w\") as f:\n",
        "    json.dump(results, f, indent=4)"
      ]
    }
  ],
  "metadata": {
    "language_info": {
      "name": "python"
    },
    "colab": {
      "provenance": [],
      "gpuType": "T4",
      "include_colab_link": true
    },
    "accelerator": "GPU",
    "kernelspec": {
      "name": "python3",
      "display_name": "Python 3"
    }
  },
  "nbformat": 4,
  "nbformat_minor": 5
}