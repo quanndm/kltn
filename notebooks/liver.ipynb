{
 "cells": [
  {
   "cell_type": "markdown",
   "id": "0a8a3684",
   "metadata": {},
   "source": [
    "## Init - import library - download data"
   ]
  },
  {
   "cell_type": "code",
   "execution_count": null,
   "id": "6d609b31",
   "metadata": {},
   "outputs": [],
   "source": [
    "!rm -rf kltn\n",
    "!rm -rf sample_data\n",
    "!git clone -b dev https://github.com/quanndm/kltn.git"
   ]
  },
  {
   "cell_type": "code",
   "execution_count": null,
   "id": "756b7c38",
   "metadata": {},
   "outputs": [],
   "source": [
    "from kltn.init.install_dependencies import install_packages, load_config\n",
    "install_packages(\"./kltn\")\n",
    "config = load_config(\"./kltn/parameters.yaml\")"
   ]
  },
  {
   "cell_type": "code",
   "execution_count": null,
   "id": "2fed11ba",
   "metadata": {},
   "outputs": [],
   "source": [
    "import torch\n",
    "import matplotlib.pyplot as plt\n",
    "import numpy as np\n",
    "from google.colab import drive\n",
    "\n",
    "from kltn import *\n",
    "from kltn.datasets.get_datasets import get_datasets_lits\n",
    "from kltn.utils.logger import init_logger\n",
    "from kltn.utils.train_val_epochs import  trainer_stage1\n",
    "from kltn.utils.metrics import  DiceMetric, TverskyLossWSigmoid, DiceLossWSigmoid\n",
    "from kltn.models.model_factory import ModelFactory\n",
    "from kltn.utils.visualize_results import visualize_results"
   ]
  },
  {
   "cell_type": "code",
   "execution_count": null,
   "id": "efa7e2bd",
   "metadata": {},
   "outputs": [],
   "source": [
    "drive.flush_and_unmount()\n",
    "drive.mount(\"/content/drive\")"
   ]
  },
  {
   "cell_type": "code",
   "execution_count": null,
   "id": "2a416363",
   "metadata": {},
   "outputs": [],
   "source": [
    "LOGGER = init_logger(config[\"log_path\"])\n",
    "device = torch.device(\"cuda\" if torch.cuda.is_available() else \"cpu\")"
   ]
  },
  {
   "cell_type": "code",
   "execution_count": null,
   "id": "398dbce7",
   "metadata": {},
   "outputs": [],
   "source": [
    "from kltn.datasets.prepare_data import prepare_dataset_LiTS\n",
    "prepare_dataset_LiTS(dir_name=config[\"source_folder_lits\"])"
   ]
  },
  {
   "cell_type": "markdown",
   "id": "a46573c5",
   "metadata": {},
   "source": [
    "## Load data"
   ]
  },
  {
   "cell_type": "code",
   "execution_count": null,
   "id": "0df10dff",
   "metadata": {},
   "outputs": [],
   "source": [
    "full_train_dataset, val_dataset = get_datasets_lits(source_folder=config[\"source_folder_lits\"], seed=123, fold_number=2, mode=\"liver\")\n",
    "print(len(full_train_dataset), len(val_dataset))"
   ]
  },
  {
   "cell_type": "code",
   "execution_count": null,
   "id": "0f6a7ff7",
   "metadata": {},
   "outputs": [],
   "source": [
    "train_loader = torch.utils.data.DataLoader(full_train_dataset, batch_size=1, shuffle=True,\n",
    "                                           num_workers=1, pin_memory=True, drop_last=True)\n",
    "val_loader = torch.utils.data.DataLoader(val_dataset, batch_size=1, shuffle=False,\n",
    "                                         pin_memory=True, num_workers=1)"
   ]
  },
  {
   "cell_type": "markdown",
   "id": "9750192f",
   "metadata": {},
   "source": [
    "## Training"
   ]
  },
  {
   "cell_type": "code",
   "execution_count": null,
   "id": "413a6769",
   "metadata": {},
   "outputs": [],
   "source": [
    "criterion = DiceLossWSigmoid().to(device)\n",
    "\n",
    "dice_acc = DiceMetric(include_background=False, reduction='mean_batch', get_not_nans=True)\n",
    "\n",
    "optimizer = torch.optim.AdamW(model.parameters(), lr=float(config[\"learning_rate\"]), weight_decay=float(config[\"weight_decay\"]))\n",
    "scheduler = torch.optim.lr_scheduler.CosineAnnealingLR(optimizer, T_max=int(config[\"max_epochs\"]), eta_min = float(config[\"eta_min\"]))"
   ]
  },
  {
   "cell_type": "code",
   "execution_count": null,
   "id": "d2cd99ac",
   "metadata": {},
   "outputs": [],
   "source": [
    "LOGGER.info(\"[TRAINER] Start TRAIN process...\")\n",
    "\n",
    "(\n",
    "    val_acc_max,\n",
    "    best_epoch,\n",
    "    dices_liver,\n",
    "    loss_epochs,\n",
    "    trains_epoch,\n",
    "    ious_liver,\n",
    "    precisions_liver,\n",
    "    recalls_liver,\n",
    "    time_tmp\n",
    ") = trainer_stage1(\n",
    "    model=model,\n",
    "    train_loader=train_loader,\n",
    "    val_loader=val_loader,\n",
    "    optimizer=optimizer,\n",
    "    loss_func=criterion,\n",
    "    acc_func=dice_acc,\n",
    "    scheduler=scheduler,\n",
    "    batch_size=config[\"batch_size\"],\n",
    "    max_epochs = config[\"max_epochs\"],\n",
    "    start_epoch = config[\"start_epoch\"],\n",
    "    val_every=config[\"val_every\"],\n",
    "    path_save_model=config[\"path_save_model_state\"],\n",
    "    logger=LOGGER,\n",
    "    save_model=True,\n",
    "    post_fix=\"liver\"\n",
    ")"
   ]
  },
  {
   "cell_type": "code",
   "execution_count": null,
   "id": "b2682dee",
   "metadata": {},
   "outputs": [],
   "source": [
    "import json\n",
    "path_save_result = f\"/content/drive/MyDrive/KLTN/code/result_model_{model.__class__.__name__}_liver.json\"\n",
    "\n",
    "results = {\n",
    "    \"dice_liver\": [float(x) for x in np.array(dices_liver, dtype=np.float32)],\n",
    "    \"loss\": [float(x) for x in np.array(loss_epochs, dtype= np.float32)],\n",
    "    \"iou_liver\": [float(x) for x in np.array(ious_liver, dtype=np.float32)],\n",
    "    \"precision_liver\": [float(x) for x in np.array(precisions_liver, dtype=np.float32)],\n",
    "    \"recall_liver\": [float(x) for x in np.array(recalls_liver, dtype=np.float32)],\n",
    "    \"best_epoch\": best_epoch,\n",
    "    \"time_train\": time_tmp\n",
    "}\n",
    "with open(path_save_result, \"w\") as f:\n",
    "    json.dump(results, f, indent=4)"
   ]
  }
 ],
 "metadata": {
  "language_info": {
   "name": "python"
  }
 },
 "nbformat": 4,
 "nbformat_minor": 5
}
