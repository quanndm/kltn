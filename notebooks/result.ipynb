{
  "cells": [
    {
      "cell_type": "markdown",
      "metadata": {
        "id": "view-in-github",
        "colab_type": "text"
      },
      "source": [
        "<a href=\"https://colab.research.google.com/github/quanndm/kltn/blob/dev/notebooks/result.ipynb\" target=\"_parent\"><img src=\"https://colab.research.google.com/assets/colab-badge.svg\" alt=\"Open In Colab\"/></a>"
      ]
    },
    {
      "cell_type": "code",
      "execution_count": null,
      "id": "ff821f53",
      "metadata": {
        "id": "ff821f53"
      },
      "outputs": [],
      "source": [
        "import numpy as np\n",
        "from google.colab import drive\n",
        "import json\n",
        "import pandas as pd\n"
      ]
    },
    {
      "cell_type": "code",
      "execution_count": null,
      "id": "8db08e87",
      "metadata": {
        "id": "8db08e87"
      },
      "outputs": [],
      "source": [
        "drive.flush_and_unmount()\n",
        "drive.mount(\"/content/gdrive\")"
      ]
    },
    {
      "cell_type": "code",
      "execution_count": null,
      "id": "d12051f0",
      "metadata": {
        "id": "d12051f0"
      },
      "outputs": [],
      "source": [
        "def load_metrics(json_path):\n",
        "    with open(json_path, 'r') as f:\n",
        "        return json.load(f)"
      ]
    },
    {
      "cell_type": "code",
      "execution_count": null,
      "id": "c4a9d1a8",
      "metadata": {
        "id": "c4a9d1a8"
      },
      "outputs": [],
      "source": [
        "import glob\n",
        "print(glob.glob(\"/content/gdrive/MyDrive/KLTN/code/result_model_*.json\"))"
      ]
    },
    {
      "cell_type": "code",
      "execution_count": null,
      "id": "65e8694a",
      "metadata": {
        "id": "65e8694a"
      },
      "outputs": [],
      "source": [
        "model_results_cot = load_metrics('/content/gdrive/MyDrive/KLTN/code/result_model_UNet3DWResNeXtCoT_liver.json')\n",
        "model_results_mcb = load_metrics('/content/gdrive/MyDrive/KLTN/code/result_model_MSC_CoTNeXtUNet_liver_mcb.json')\n",
        "model_results_msa = load_metrics('/content/gdrive/MyDrive/KLTN/code/result_model_MSCoTNeXtUNet_liver_msa.json')"
      ]
    },
    {
      "cell_type": "code",
      "execution_count": null,
      "id": "7485cb31",
      "metadata": {
        "id": "7485cb31"
      },
      "outputs": [],
      "source": [
        "epochs = list(range(1, len(model_results_cot[\"dice_liver\"]) + 1))\n",
        "plt.figure(figsize=(14, 7))\n",
        "\n",
        "# dice\n",
        "plt.subplot(1, 2, 1)\n",
        "plt.plot(epochs, model_results_cot[\"dice_liver\"], label='unet3d + resnext + cot attention')\n",
        "plt.plot(epochs, model_results_mcb[\"dice_liver\"], label='unet3d + resnext + ms conv + cot attention')\n",
        "plt.plot(epochs, model_results_mca[\"dice_liver\"], label='unet3d + resnext + ms cot attention ')\n",
        "plt.title('Dice Coefficient vs Epochs')\n",
        "plt.xlabel('Epochs')\n",
        "plt.ylabel('Dice Coefficient')\n",
        "plt.legend()\n",
        "plt.grid()\n",
        "\n",
        "#loss\n",
        "plt.subplot(1, 2, 2)\n",
        "plt.plot(epochs, model_results_cot[\"loss\"], label='unet3d + resnext + cot ')\n",
        "plt.plot(epochs, model_results_mcb[\"loss\"], label='unet3d + resnext + ms conv + cot attention')\n",
        "plt.plot(epochs, model_results_mca[\"loss\"], label='unet3d + resnext + ms cot attention ')\n",
        "plt.title('Loss vs Epochs')\n",
        "plt.xlabel('Epochs')\n",
        "plt.ylabel('Loss')\n",
        "plt.legend()\n",
        "plt.grid()\n",
        "\n",
        "plt.tight_layout()\n",
        "plt.show()"
      ]
    },
    {
      "cell_type": "code",
      "execution_count": null,
      "id": "6f16789c",
      "metadata": {
        "id": "6f16789c"
      },
      "outputs": [],
      "source": [
        "data = {\n",
        "    \"Model\": [\"unet3d + resnext + cot attention\", \"unet3d + resnext + ms conv + cot attention\", \"unet3d + resnext + ms cot attention\"],\n",
        "    \"Dice (%)\": [model_results_cot[\"dice_liver\"], model_results_mcb[\"dice_liver\"], model_results_msa[\"dice_liver\"]],\n",
        "    \"IoU (%)\": [model_results_cot[\"iou_liver\"], model_results_mcb[\"iou_liver\"], model_results_msa[\"iou_liver\"]],\n",
        "    \"Precision (%)\": [model_results_cot[\"precision_liver\"], model_results_mcb[\"precision_liver\"], model_results_msa[\"precision_liver\"]],\n",
        "    \"Recall (%)\": [model_results_cot[\"recall_liver\"], model_results_mcb[\"recall_liver\"], model_results_msa[\"recall_liver\"]],\n",
        "}\n"
      ]
    },
    {
      "cell_type": "code",
      "execution_count": null,
      "id": "af8ff15b",
      "metadata": {
        "id": "af8ff15b"
      },
      "outputs": [],
      "source": [
        "df = pd.DataFrame(data)\n",
        "print(df.to_string(index=False))"
      ]
    }
  ],
  "metadata": {
    "kernelspec": {
      "display_name": "Python 3",
      "language": "python",
      "name": "python3"
    },
    "language_info": {
      "name": "python",
      "version": "3.11.9"
    },
    "colab": {
      "provenance": [],
      "include_colab_link": true
    }
  },
  "nbformat": 4,
  "nbformat_minor": 5
}