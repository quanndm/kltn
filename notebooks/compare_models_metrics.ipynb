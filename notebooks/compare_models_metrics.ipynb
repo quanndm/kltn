{
 "cells": [
  {
   "cell_type": "code",
   "execution_count": null,
   "id": "62d6e634",
   "metadata": {},
   "outputs": [],
   "source": [
    "import json\n",
    "import matplotlib.pyplot as plt\n",
    "import numpy as np\n",
    "from google.colab import drive"
   ]
  },
  {
   "cell_type": "code",
   "execution_count": null,
   "id": "4df0ed78",
   "metadata": {},
   "outputs": [],
   "source": [
    "\n",
    "drive.flush_and_unmount()\n",
    "drive.mount(\"/content/drive\")"
   ]
  },
  {
   "cell_type": "code",
   "execution_count": null,
   "id": "2cd66ef8",
   "metadata": {},
   "outputs": [],
   "source": [
    "def load_metrics(json_path):\n",
    "    with open(json_path, 'r') as f:\n",
    "        return json.load(f)"
   ]
  },
  {
   "cell_type": "code",
   "execution_count": null,
   "id": "c931307e",
   "metadata": {},
   "outputs": [],
   "source": [
    "import glob\n",
    "print(glob.glob(\"/content/drive/MyDrive/KLTN/code/result_model_*.json\"))"
   ]
  },
  {
   "cell_type": "code",
   "execution_count": null,
   "id": "d9071571",
   "metadata": {},
   "outputs": [],
   "source": [
    "model_unet3d = load_metrics('/content/drive/MyDrive/KLTN/code/result_model_UNet3D.json')\n",
    "model_unet3d_cot = load_metrics('/content/drive/MyDrive/KLTN/code/result_model_UNet3DWCoT.json')"
   ]
  },
  {
   "cell_type": "code",
   "execution_count": null,
   "id": "88d6e38c",
   "metadata": {},
   "outputs": [],
   "source": [
    "epochs = list(range(1, len(model1['dice_liver']) + 1))\n",
    "plt.figure(figsize=(12, 5))\n",
    "\n",
    "# Dice Liver\n",
    "plt.subplot(1, 2, 1)\n",
    "plt.plot(epochs, model_unet3d['dice_liver'], label='UNet3D')\n",
    "plt.plot(epochs, model_unet3d_cot['dice_liver'], label='UNet3D + CoT')\n",
    "plt.title('Dice Liver')\n",
    "plt.xlabel('Epoch')\n",
    "plt.ylabel('Score')\n",
    "plt.legend()\n",
    "plt.grid(True)\n",
    "\n",
    "# Dice Tumor\n",
    "plt.subplot(1, 2, 2)\n",
    "plt.plot(epochs, model_unet3d['dice_tumor'], label='UNet3D')\n",
    "plt.plot(epochs, model_unet3d_cot['dice_tumor'], label='UNet3D + CoT')\n",
    "plt.title('Dice Tumor')\n",
    "plt.xlabel('Epoch')\n",
    "plt.ylabel('Score')\n",
    "plt.legend()\n",
    "plt.grid(True)\n",
    "\n",
    "plt.tight_layout()\n",
    "plt.show()"
   ]
  },
  {
   "cell_type": "code",
   "execution_count": null,
   "id": "6f3adf59",
   "metadata": {},
   "outputs": [],
   "source": [
    "plt.figure(figsize=(6, 5))\n",
    "plt.plot(epochs, model_unet3d['dice_avg'], label='UNet3D')\n",
    "plt.plot(epochs, model_unet3d_cot['dice_avg'], label='UNet3D + CoT')\n",
    "plt.title('Dice Average')\n",
    "plt.xlabel('Epoch')\n",
    "plt.ylabel('Score')\n",
    "plt.legend()\n",
    "plt.grid(True)\n",
    "plt.show()"
   ]
  },
  {
   "cell_type": "code",
   "execution_count": null,
   "id": "e371a68e",
   "metadata": {},
   "outputs": [],
   "source": [
    "plt.figure(figsize=(6, 5))\n",
    "plt.plot(epochs, model_unet3d['loss'], label='UNet3D')\n",
    "plt.plot(epochs, model_unet3d_cot['loss'], label='UNet3D + CoT')\n",
    "plt.title('Loss')\n",
    "plt.xlabel('Epoch')\n",
    "plt.ylabel('Loss')\n",
    "plt.legend()\n",
    "plt.grid(True)\n",
    "plt.show()"
   ]
  }
 ],
 "metadata": {
  "language_info": {
   "name": "python"
  }
 },
 "nbformat": 4,
 "nbformat_minor": 5
}
