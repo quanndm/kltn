{
 "cells": [
  {
   "cell_type": "code",
   "execution_count": null,
   "id": "71ca95db",
   "metadata": {},
   "outputs": [],
   "source": [
    "<a href=\"https://colab.research.google.com/github/quanndm/kltn/blob/dev/notebooks/tumor.ipynb\" target=\"_parent\"><img src=\"https://colab.research.google.com/assets/colab-badge.svg\" alt=\"Open In Colab\"/></a>"
   ]
  },
  {
   "cell_type": "markdown",
   "id": "f019e008",
   "metadata": {},
   "source": [
    "## Init - import library - download data"
   ]
  },
  {
   "cell_type": "code",
   "execution_count": null,
   "id": "49327657",
   "metadata": {},
   "outputs": [],
   "source": [
    "!rm -rf kltn\n",
    "!rm -rf sample_data\n",
    "!git clone -b dev https://github.com/quanndm/kltn.git"
   ]
  },
  {
   "cell_type": "code",
   "execution_count": null,
   "id": "b160b91e",
   "metadata": {},
   "outputs": [],
   "source": [
    "from kltn.init.install_dependencies import install_packages, load_config\n",
    "install_packages(\"./kltn\")\n",
    "config = load_config(\"./kltn/parameters.yaml\")"
   ]
  },
  {
   "cell_type": "code",
   "execution_count": null,
   "id": "4fd33572",
   "metadata": {},
   "outputs": [],
   "source": [
    "import torch\n",
    "import matplotlib.pyplot as plt\n",
    "import numpy as np\n",
    "from google.colab import drive\n",
    "\n",
    "from kltn import *\n",
    "from kltn.datasets.get_datasets import get_datasets_stage2\n",
    "from kltn.utils.logger import init_logger\n",
    "from kltn.utils.train_val_epochs import trainer\n",
    "from kltn.utils.metrics import  DiceMetric, TverskyLossWSigmoid\n",
    "from kltn.models.model_factory import ModelFactory\n",
    "from kltn.utils.visualize_results import visualize_results"
   ]
  },
  {
   "cell_type": "code",
   "execution_count": null,
   "id": "6b1fce3c",
   "metadata": {},
   "outputs": [],
   "source": [
    "drive.flush_and_unmount()\n",
    "drive.mount(\"/content/drive\")"
   ]
  },
  {
   "cell_type": "code",
   "execution_count": null,
   "id": "1af26197",
   "metadata": {},
   "outputs": [],
   "source": [
    "LOGGER = init_logger(config[\"log_path\"])\n",
    "device = torch.device(\"cuda\" if torch.cuda.is_available() else \"cpu\")"
   ]
  },
  {
   "cell_type": "code",
   "execution_count": null,
   "id": "651a9bd1",
   "metadata": {},
   "outputs": [],
   "source": [
    "from kltn.datasets.prepare_data import prepare_dataset_LiTS\n",
    "prepare_dataset_LiTS(dir_name=config[\"source_folder_lits\"])"
   ]
  },
  {
   "cell_type": "markdown",
   "id": "a6a5d228",
   "metadata": {},
   "source": [
    "## Model"
   ]
  },
  {
   "cell_type": "code",
   "execution_count": null,
   "id": "a001fd01",
   "metadata": {},
   "outputs": [],
   "source": [
    "weight_path = \"/content/drive/MyDrive/KLTN/code/weight/best_metric_model_UNet3DWResNeXtCoT.pth\"\n",
    "model_stage_1 = ModelFactory.get_model(\"unet3d_resnextcot\",in_channels=1, n_classes=3, n_channels=16).to(device)\n",
    "model_stage_1.load_state_dict(torch.load(weight_path, map_location=device))"
   ]
  },
  {
   "cell_type": "code",
   "execution_count": null,
   "id": "d205f4c0",
   "metadata": {},
   "outputs": [],
   "source": [
    "model = ModelFactory.get_model(\"unet3d_resnextcot\",in_channels=1, n_classes=1, n_channels=16).to(device)\n",
    "model.load_state_dict({\n",
    "    k: v for k, v in model_stage1.state_dict().items() if \"out\" not in k\n",
    "}, strict=False)"
   ]
  },
  {
   "cell_type": "markdown",
   "id": "3ce8e3bc",
   "metadata": {},
   "source": [
    "## Load data"
   ]
  },
  {
   "cell_type": "code",
   "execution_count": null,
   "id": "f1df07b9",
   "metadata": {},
   "outputs": [],
   "source": [
    "full_train_dataset, val_dataset = get_datasets_stage2(source_folder=config[\"source_folder_lits\"], seed=123, fold_number=2, model_stage_1=model_stage_1)\n",
    "print(len(full_train_dataset), len(val_dataset))"
   ]
  },
  {
   "cell_type": "code",
   "execution_count": null,
   "id": "b43b5add",
   "metadata": {},
   "outputs": [],
   "source": [
    "train_loader = torch.utils.data.DataLoader(full_train_dataset, batch_size=1, shuffle=True,\n",
    "                                           num_workers=1, pin_memory=True, drop_last=True)\n",
    "val_loader = torch.utils.data.DataLoader(val_dataset, batch_size=1, shuffle=False,\n",
    "                                         pin_memory=True, num_workers=1)"
   ]
  },
  {
   "cell_type": "markdown",
   "id": "41d908bf",
   "metadata": {},
   "source": [
    "## Training"
   ]
  },
  {
   "cell_type": "code",
   "execution_count": null,
   "id": "4d88d064",
   "metadata": {},
   "outputs": [],
   "source": [
    "criterion = TverskyLossWSigmoid().to(device)\n",
    "\n",
    "dice_acc = DiceMetric(include_background=False, reduction='mean_batch', get_not_nans=True)\n",
    "\n",
    "optimizer = torch.optim.AdamW(model.parameters(), lr=float(config[\"learning_rate\"]), weight_decay=float(config[\"weight_decay\"]))\n",
    "scheduler = torch.optim.lr_scheduler.CosineAnnealingLR(optimizer, T_max=int(config[\"max_epochs\"]), eta_min = float(config[\"eta_min\"]))"
   ]
  },
  {
   "cell_type": "code",
   "execution_count": null,
   "id": "5c9e63dc",
   "metadata": {},
   "outputs": [],
   "source": [
    "LOGGER.info(\"[TRAINER] Start TRAIN process...\")\n",
    "\n",
    "(\n",
    "    val_acc_max, \n",
    "    best_epoch,  \n",
    "    dices_tumor,  \n",
    "    loss_epochs, \n",
    "    trains_epoch, \n",
    "    ious_tumor, \n",
    "    precisions_tumor, \n",
    "    recalls_tumor, \n",
    "    time_tmp\n",
    ") = trainer(\n",
    "    model=model,\n",
    "    train_loader=train_loader,\n",
    "    val_loader=val_loader,\n",
    "    optimizer=optimizer,\n",
    "    loss_func=criterion,\n",
    "    acc_func=dice_acc,\n",
    "    scheduler=scheduler,\n",
    "    batch_size=config[\"batch_size\"],\n",
    "    max_epochs = config[\"max_epochs\"],\n",
    "    start_epoch = config[\"start_epoch\"],\n",
    "    val_every=config[\"val_every\"],\n",
    "    path_save_model=config[\"path_save_model_state\"],\n",
    "    logger=LOGGER,\n",
    "    save_model=True,\n",
    "    post_fix=\"tumor\"\n",
    ")"
   ]
  },
  {
   "cell_type": "code",
   "execution_count": null,
   "id": "bcd8638d",
   "metadata": {},
   "outputs": [],
   "source": [
    "import json\n",
    "path_save_result = f\"/content/drive/MyDrive/KLTN/code/result_model_{model.__class__.__name__}_tumor.json\"\n",
    "\n",
    "results = {\n",
    "    \"dice_tumor\": [float(x) for x in np.array(dices_tumor, dtype=np.float32)],\n",
    "    \"loss\": [float(x) for x in np.array(loss_epochs, dtype= np.float32)],\n",
    "    \"iou_tumor\": [float(x) for x in np.array(ious_tumor, dtype=np.float32)],\n",
    "    \"precision_tumor\": [float(x) for x in np.array(precisions_tumor, dtype=np.float32)],\n",
    "    \"recall_tumor\": [float(x) for x in np.array(recalls_tumor, dtype=np.float32)],\n",
    "    \"best_epoch\": best_epoch,\n",
    "    \"time_train\": time_tmp\n",
    "}\n",
    "with open(path_save_result, \"w\") as f:\n",
    "    json.dump(results, f, indent=4)"
   ]
  }
 ],
 "metadata": {
  "language_info": {
   "name": "python"
  }
 },
 "nbformat": 4,
 "nbformat_minor": 5
}
