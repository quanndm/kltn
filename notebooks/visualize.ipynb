{
 "cells": [
  {
   "cell_type": "markdown",
   "id": "418e63d7",
   "metadata": {},
   "source": [
    "## Init - import library - download data"
   ]
  },
  {
   "cell_type": "code",
   "execution_count": null,
   "id": "8834eff5",
   "metadata": {},
   "outputs": [],
   "source": [
    "!rm -rf kltn\n",
    "!rm -rf sample_data\n",
    "!git clone -b dev https://github.com/quanndm/kltn.git"
   ]
  },
  {
   "cell_type": "code",
   "execution_count": null,
   "id": "35e450a1",
   "metadata": {},
   "outputs": [],
   "source": [
    "from kltn.init.install_dependencies import install_packages, load_config\n",
    "install_packages(\"./kltn\")\n",
    "config = load_config(\"./kltn/parameters.yaml\")"
   ]
  },
  {
   "cell_type": "code",
   "execution_count": null,
   "id": "36673a47",
   "metadata": {},
   "outputs": [],
   "source": [
    "import torch\n",
    "import matplotlib.pyplot as plt\n",
    "import numpy as np\n",
    "from google.colab import drive\n",
    "import json\n",
    "\n",
    "from kltn import *\n",
    "from kltn.datasets.get_datasets import get_datasets_lits\n",
    "from kltn.utils.logger import init_logger\n",
    "from kltn.utils.train_val_epochs import  trainer_stage1\n",
    "from kltn.utils.metrics import  DiceMetric, TverskyLossWSigmoid, DiceLossWSigmoid\n",
    "from kltn.models.model_factory import ModelFactory\n",
    "from kltn.utils.visualize_results import visualize_results, visualize_results_stage_1\n",
    "from kltn.processing.preprocessing import resize_crop_to_bbox_size, uncrop_to_full_image"
   ]
  },
  {
   "cell_type": "code",
   "execution_count": null,
   "id": "8c2220d7",
   "metadata": {},
   "outputs": [],
   "source": [
    "drive.flush_and_unmount()\n",
    "drive.mount(\"/content/gdrive\")"
   ]
  },
  {
   "cell_type": "code",
   "execution_count": null,
   "id": "1eb95b08",
   "metadata": {},
   "outputs": [],
   "source": [
    "from kltn.datasets.prepare_data import prepare_dataset_LiTS\n",
    "prepare_dataset_LiTS(dir_name=config[\"source_folder_lits\"])"
   ]
  },
  {
   "cell_type": "markdown",
   "id": "ed5b5c77",
   "metadata": {},
   "source": [
    "## Visualize Liver"
   ]
  },
  {
   "cell_type": "code",
   "execution_count": null,
   "id": "b82c7582",
   "metadata": {},
   "outputs": [],
   "source": []
  },
  {
   "cell_type": "markdown",
   "id": "87acc4c8",
   "metadata": {},
   "source": [
    "## Visualize Tumor"
   ]
  }
 ],
 "metadata": {
  "language_info": {
   "name": "python"
  }
 },
 "nbformat": 4,
 "nbformat_minor": 5
}
